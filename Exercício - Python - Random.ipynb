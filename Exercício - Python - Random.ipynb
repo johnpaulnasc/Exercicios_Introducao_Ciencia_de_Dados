{
 "cells": [
  {
   "cell_type": "markdown",
   "metadata": {},
   "source": [
    "# Introdução à Ciência de Dados - UFPB\n",
    "Professor: Yuri Malheiros\n",
    "\n",
    "## Python - Random - Exercício"
   ]
  },
  {
   "cell_type": "markdown",
   "metadata": {},
   "source": [
    "Implemente a função `generate_password` que deve gerar uma senha aleatória.\n",
    "\n",
    "A função tem tres parâmetros:\n",
    "\n",
    "- `n_chars` especifica o tamanho da senha gerada\n",
    "- `use_numbers` especifica se números podem ser usados na senha. Por padrão, esse parâmetro tem valor True\n",
    "- `use_special_chars` especifica se caracteres especiais, por exemplo !#%&@?, pode ser usados na senha. Por padrão, esse parâmetro tem valor True\n",
    "\n",
    "Note que se `use_numbers` e `use_special_chars` tiverem valor False, a senha terá apenas letras maiúsculas ou minúsculas."
   ]
  },
  {
   "cell_type": "code",
   "execution_count": 4,
   "metadata": {},
   "outputs": [],
   "source": [
    "import string\n",
    "import random\n",
    "\n",
    "def generate_password(n_chars, use_numbers=True, use_special_chars=True):\n",
    "    \n",
    "    letters = string.ascii_lowercase\n",
    "    characters = string.punctuation\n",
    "    numbers = string.digits\n",
    "    password = \"\"\n",
    "    \n",
    "    \n",
    "    if((use_numbers == True) and (use_special_chars == True)):\n",
    "        for i in range(n_chars):\n",
    "            draw_letters = random.choice(letters)\n",
    "            draw_characters = random.choice(characters)\n",
    "            draw_numbers = random.choice(numbers)\n",
    "            roster = [draw_letters,draw_characters,draw_numbers]\n",
    "            aleatory = random.randrange(0,len(roster))\n",
    "            password += roster[aleatory]\n",
    "            \n",
    "            \n",
    "    elif((use_numbers == False) and (use_special_chars == True)):\n",
    "        for i in range(n_chars):\n",
    "            draw_letters = random.choice(letters)\n",
    "            draw_characters = random.choice(characters)\n",
    "            roster = [draw_letters,draw_characters,]\n",
    "            aleatory = random.randrange(0,len(roster))\n",
    "            password += roster[aleatory]\n",
    "    \n",
    "    \n",
    "    else:\n",
    "        for i in range(n_chars):\n",
    "            draw_letters = random.choice(letters)\n",
    "            roster = [draw_letters]\n",
    "            aleatory = random.randrange(0,len(roster))\n",
    "            password += roster[aleatory]\n",
    "            \n",
    "            \n",
    "    return password\n",
    "        "
   ]
  },
  {
   "cell_type": "code",
   "execution_count": 5,
   "metadata": {},
   "outputs": [
    {
     "name": "stdout",
     "output_type": "stream",
     "text": [
      "31pe6bf]w4\n",
      "w.uk|`|g=|\n",
      "ysjhsvwvzw\n"
     ]
    }
   ],
   "source": [
    "print(generate_password(10))\n",
    "print(generate_password(10, use_numbers=False))\n",
    "print(generate_password(10, use_numbers=False, use_special_chars=False))"
   ]
  },
  {
   "cell_type": "code",
   "execution_count": null,
   "metadata": {},
   "outputs": [],
   "source": []
  }
 ],
 "metadata": {
  "kernelspec": {
   "display_name": "Python 3",
   "language": "python",
   "name": "python3"
  },
  "language_info": {
   "codemirror_mode": {
    "name": "ipython",
    "version": 3
   },
   "file_extension": ".py",
   "mimetype": "text/x-python",
   "name": "python",
   "nbconvert_exporter": "python",
   "pygments_lexer": "ipython3",
   "version": "3.8.5"
  }
 },
 "nbformat": 4,
 "nbformat_minor": 4
}
