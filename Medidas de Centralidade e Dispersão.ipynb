{
 "cells": [
  {
   "cell_type": "markdown",
   "metadata": {},
   "source": [
    "# Introdução à Ciência de Dados - UFPB\n",
    "Professor: Yuri Malheiros\n",
    "\n",
    "Aluno: João Paulo do Nascimento Borges\n",
    "\n",
    "## Medidas de Centralidade e Dispersão"
   ]
  },
  {
   "cell_type": "markdown",
   "metadata": {},
   "source": [
    "A partir do dataset `movies.csv` calcule a média, mediana e desvio padrão para as colunas:"
   ]
  },
  {
   "cell_type": "code",
   "execution_count": 6,
   "metadata": {},
   "outputs": [
    {
     "data": {
      "text/html": [
       "<div>\n",
       "<style scoped>\n",
       "    .dataframe tbody tr th:only-of-type {\n",
       "        vertical-align: middle;\n",
       "    }\n",
       "\n",
       "    .dataframe tbody tr th {\n",
       "        vertical-align: top;\n",
       "    }\n",
       "\n",
       "    .dataframe thead th {\n",
       "        text-align: right;\n",
       "    }\n",
       "</style>\n",
       "<table border=\"1\" class=\"dataframe\">\n",
       "  <thead>\n",
       "    <tr style=\"text-align: right;\">\n",
       "      <th></th>\n",
       "      <th>Title</th>\n",
       "      <th>US Gross</th>\n",
       "      <th>Worldwide Gross</th>\n",
       "      <th>US DVD Sales</th>\n",
       "      <th>Production Budget</th>\n",
       "      <th>Release Date</th>\n",
       "      <th>MPAA Rating</th>\n",
       "      <th>Running Time (min)</th>\n",
       "      <th>Distributor</th>\n",
       "      <th>Source</th>\n",
       "      <th>Major Genre</th>\n",
       "      <th>Creative Type</th>\n",
       "      <th>Director</th>\n",
       "      <th>Rotten Tomatoes Rating</th>\n",
       "      <th>IMDB Rating</th>\n",
       "      <th>IMDB Votes</th>\n",
       "    </tr>\n",
       "  </thead>\n",
       "  <tbody>\n",
       "    <tr>\n",
       "      <th>0</th>\n",
       "      <td>The Land Girls</td>\n",
       "      <td>146083.0</td>\n",
       "      <td>146083.0</td>\n",
       "      <td>NaN</td>\n",
       "      <td>8000000.0</td>\n",
       "      <td>12-Jun-98</td>\n",
       "      <td>R</td>\n",
       "      <td>NaN</td>\n",
       "      <td>Gramercy</td>\n",
       "      <td>NaN</td>\n",
       "      <td>NaN</td>\n",
       "      <td>NaN</td>\n",
       "      <td>NaN</td>\n",
       "      <td>NaN</td>\n",
       "      <td>6.1</td>\n",
       "      <td>1071.0</td>\n",
       "    </tr>\n",
       "    <tr>\n",
       "      <th>1</th>\n",
       "      <td>First Love, Last Rites</td>\n",
       "      <td>10876.0</td>\n",
       "      <td>10876.0</td>\n",
       "      <td>NaN</td>\n",
       "      <td>300000.0</td>\n",
       "      <td>7-Aug-98</td>\n",
       "      <td>R</td>\n",
       "      <td>NaN</td>\n",
       "      <td>Strand</td>\n",
       "      <td>NaN</td>\n",
       "      <td>Drama</td>\n",
       "      <td>NaN</td>\n",
       "      <td>NaN</td>\n",
       "      <td>NaN</td>\n",
       "      <td>6.9</td>\n",
       "      <td>207.0</td>\n",
       "    </tr>\n",
       "    <tr>\n",
       "      <th>2</th>\n",
       "      <td>I Married a Strange Person</td>\n",
       "      <td>203134.0</td>\n",
       "      <td>203134.0</td>\n",
       "      <td>NaN</td>\n",
       "      <td>250000.0</td>\n",
       "      <td>28-Aug-98</td>\n",
       "      <td>NaN</td>\n",
       "      <td>NaN</td>\n",
       "      <td>Lionsgate</td>\n",
       "      <td>NaN</td>\n",
       "      <td>Comedy</td>\n",
       "      <td>NaN</td>\n",
       "      <td>NaN</td>\n",
       "      <td>NaN</td>\n",
       "      <td>6.8</td>\n",
       "      <td>865.0</td>\n",
       "    </tr>\n",
       "    <tr>\n",
       "      <th>3</th>\n",
       "      <td>Let's Talk About Sex</td>\n",
       "      <td>373615.0</td>\n",
       "      <td>373615.0</td>\n",
       "      <td>NaN</td>\n",
       "      <td>300000.0</td>\n",
       "      <td>11-Sep-98</td>\n",
       "      <td>NaN</td>\n",
       "      <td>NaN</td>\n",
       "      <td>Fine Line</td>\n",
       "      <td>NaN</td>\n",
       "      <td>Comedy</td>\n",
       "      <td>NaN</td>\n",
       "      <td>NaN</td>\n",
       "      <td>13.0</td>\n",
       "      <td>NaN</td>\n",
       "      <td>NaN</td>\n",
       "    </tr>\n",
       "    <tr>\n",
       "      <th>4</th>\n",
       "      <td>Slam</td>\n",
       "      <td>1009819.0</td>\n",
       "      <td>1087521.0</td>\n",
       "      <td>NaN</td>\n",
       "      <td>1000000.0</td>\n",
       "      <td>9-Oct-98</td>\n",
       "      <td>R</td>\n",
       "      <td>NaN</td>\n",
       "      <td>Trimark</td>\n",
       "      <td>Original Screenplay</td>\n",
       "      <td>Drama</td>\n",
       "      <td>Contemporary Fiction</td>\n",
       "      <td>NaN</td>\n",
       "      <td>62.0</td>\n",
       "      <td>3.4</td>\n",
       "      <td>165.0</td>\n",
       "    </tr>\n",
       "    <tr>\n",
       "      <th>...</th>\n",
       "      <td>...</td>\n",
       "      <td>...</td>\n",
       "      <td>...</td>\n",
       "      <td>...</td>\n",
       "      <td>...</td>\n",
       "      <td>...</td>\n",
       "      <td>...</td>\n",
       "      <td>...</td>\n",
       "      <td>...</td>\n",
       "      <td>...</td>\n",
       "      <td>...</td>\n",
       "      <td>...</td>\n",
       "      <td>...</td>\n",
       "      <td>...</td>\n",
       "      <td>...</td>\n",
       "      <td>...</td>\n",
       "    </tr>\n",
       "    <tr>\n",
       "      <th>3196</th>\n",
       "      <td>Zack and Miri Make a Porno</td>\n",
       "      <td>31452765.0</td>\n",
       "      <td>36851125.0</td>\n",
       "      <td>21240321.0</td>\n",
       "      <td>24000000.0</td>\n",
       "      <td>31-Oct-08</td>\n",
       "      <td>R</td>\n",
       "      <td>101.0</td>\n",
       "      <td>Weinstein Co.</td>\n",
       "      <td>Original Screenplay</td>\n",
       "      <td>Comedy</td>\n",
       "      <td>Contemporary Fiction</td>\n",
       "      <td>Kevin Smith</td>\n",
       "      <td>65.0</td>\n",
       "      <td>7.0</td>\n",
       "      <td>55687.0</td>\n",
       "    </tr>\n",
       "    <tr>\n",
       "      <th>3197</th>\n",
       "      <td>Zodiac</td>\n",
       "      <td>33080084.0</td>\n",
       "      <td>83080084.0</td>\n",
       "      <td>20983030.0</td>\n",
       "      <td>85000000.0</td>\n",
       "      <td>2-Mar-07</td>\n",
       "      <td>R</td>\n",
       "      <td>157.0</td>\n",
       "      <td>Paramount Pictures</td>\n",
       "      <td>Based on Book/Short Story</td>\n",
       "      <td>Thriller/Suspense</td>\n",
       "      <td>Dramatization</td>\n",
       "      <td>David Fincher</td>\n",
       "      <td>89.0</td>\n",
       "      <td>NaN</td>\n",
       "      <td>NaN</td>\n",
       "    </tr>\n",
       "    <tr>\n",
       "      <th>3198</th>\n",
       "      <td>Zoom</td>\n",
       "      <td>11989328.0</td>\n",
       "      <td>12506188.0</td>\n",
       "      <td>6679409.0</td>\n",
       "      <td>35000000.0</td>\n",
       "      <td>11-Aug-06</td>\n",
       "      <td>PG</td>\n",
       "      <td>NaN</td>\n",
       "      <td>Sony Pictures</td>\n",
       "      <td>Based on Comic/Graphic Novel</td>\n",
       "      <td>Adventure</td>\n",
       "      <td>Super Hero</td>\n",
       "      <td>Peter Hewitt</td>\n",
       "      <td>3.0</td>\n",
       "      <td>3.4</td>\n",
       "      <td>7424.0</td>\n",
       "    </tr>\n",
       "    <tr>\n",
       "      <th>3199</th>\n",
       "      <td>The Legend of Zorro</td>\n",
       "      <td>45575336.0</td>\n",
       "      <td>141475336.0</td>\n",
       "      <td>NaN</td>\n",
       "      <td>80000000.0</td>\n",
       "      <td>28-Oct-05</td>\n",
       "      <td>PG</td>\n",
       "      <td>129.0</td>\n",
       "      <td>Sony Pictures</td>\n",
       "      <td>Remake</td>\n",
       "      <td>Adventure</td>\n",
       "      <td>Historical Fiction</td>\n",
       "      <td>Martin Campbell</td>\n",
       "      <td>26.0</td>\n",
       "      <td>5.7</td>\n",
       "      <td>21161.0</td>\n",
       "    </tr>\n",
       "    <tr>\n",
       "      <th>3200</th>\n",
       "      <td>The Mask of Zorro</td>\n",
       "      <td>93828745.0</td>\n",
       "      <td>233700000.0</td>\n",
       "      <td>NaN</td>\n",
       "      <td>65000000.0</td>\n",
       "      <td>17-Jul-98</td>\n",
       "      <td>PG-13</td>\n",
       "      <td>136.0</td>\n",
       "      <td>Sony Pictures</td>\n",
       "      <td>Remake</td>\n",
       "      <td>Adventure</td>\n",
       "      <td>Historical Fiction</td>\n",
       "      <td>Martin Campbell</td>\n",
       "      <td>82.0</td>\n",
       "      <td>6.7</td>\n",
       "      <td>4789.0</td>\n",
       "    </tr>\n",
       "  </tbody>\n",
       "</table>\n",
       "<p>3201 rows × 16 columns</p>\n",
       "</div>"
      ],
      "text/plain": [
       "                           Title    US Gross  Worldwide Gross  US DVD Sales  \\\n",
       "0                 The Land Girls    146083.0         146083.0           NaN   \n",
       "1         First Love, Last Rites     10876.0          10876.0           NaN   \n",
       "2     I Married a Strange Person    203134.0         203134.0           NaN   \n",
       "3           Let's Talk About Sex    373615.0         373615.0           NaN   \n",
       "4                           Slam   1009819.0        1087521.0           NaN   \n",
       "...                          ...         ...              ...           ...   \n",
       "3196  Zack and Miri Make a Porno  31452765.0       36851125.0    21240321.0   \n",
       "3197                      Zodiac  33080084.0       83080084.0    20983030.0   \n",
       "3198                        Zoom  11989328.0       12506188.0     6679409.0   \n",
       "3199         The Legend of Zorro  45575336.0      141475336.0           NaN   \n",
       "3200           The Mask of Zorro  93828745.0      233700000.0           NaN   \n",
       "\n",
       "      Production Budget Release Date MPAA Rating  Running Time (min)  \\\n",
       "0             8000000.0    12-Jun-98           R                 NaN   \n",
       "1              300000.0     7-Aug-98           R                 NaN   \n",
       "2              250000.0    28-Aug-98         NaN                 NaN   \n",
       "3              300000.0    11-Sep-98         NaN                 NaN   \n",
       "4             1000000.0     9-Oct-98           R                 NaN   \n",
       "...                 ...          ...         ...                 ...   \n",
       "3196         24000000.0    31-Oct-08           R               101.0   \n",
       "3197         85000000.0     2-Mar-07           R               157.0   \n",
       "3198         35000000.0    11-Aug-06          PG                 NaN   \n",
       "3199         80000000.0    28-Oct-05          PG               129.0   \n",
       "3200         65000000.0    17-Jul-98       PG-13               136.0   \n",
       "\n",
       "             Distributor                        Source        Major Genre  \\\n",
       "0               Gramercy                           NaN                NaN   \n",
       "1                 Strand                           NaN              Drama   \n",
       "2              Lionsgate                           NaN             Comedy   \n",
       "3              Fine Line                           NaN             Comedy   \n",
       "4                Trimark           Original Screenplay              Drama   \n",
       "...                  ...                           ...                ...   \n",
       "3196       Weinstein Co.           Original Screenplay             Comedy   \n",
       "3197  Paramount Pictures     Based on Book/Short Story  Thriller/Suspense   \n",
       "3198       Sony Pictures  Based on Comic/Graphic Novel          Adventure   \n",
       "3199       Sony Pictures                        Remake          Adventure   \n",
       "3200       Sony Pictures                        Remake          Adventure   \n",
       "\n",
       "             Creative Type         Director  Rotten Tomatoes Rating  \\\n",
       "0                      NaN              NaN                     NaN   \n",
       "1                      NaN              NaN                     NaN   \n",
       "2                      NaN              NaN                     NaN   \n",
       "3                      NaN              NaN                    13.0   \n",
       "4     Contemporary Fiction              NaN                    62.0   \n",
       "...                    ...              ...                     ...   \n",
       "3196  Contemporary Fiction      Kevin Smith                    65.0   \n",
       "3197         Dramatization    David Fincher                    89.0   \n",
       "3198            Super Hero     Peter Hewitt                     3.0   \n",
       "3199    Historical Fiction  Martin Campbell                    26.0   \n",
       "3200    Historical Fiction  Martin Campbell                    82.0   \n",
       "\n",
       "      IMDB Rating  IMDB Votes  \n",
       "0             6.1      1071.0  \n",
       "1             6.9       207.0  \n",
       "2             6.8       865.0  \n",
       "3             NaN         NaN  \n",
       "4             3.4       165.0  \n",
       "...           ...         ...  \n",
       "3196          7.0     55687.0  \n",
       "3197          NaN         NaN  \n",
       "3198          3.4      7424.0  \n",
       "3199          5.7     21161.0  \n",
       "3200          6.7      4789.0  \n",
       "\n",
       "[3201 rows x 16 columns]"
      ]
     },
     "execution_count": 6,
     "metadata": {},
     "output_type": "execute_result"
    }
   ],
   "source": [
    "import pandas as pd\n",
    "import numpy as np\n",
    "import math as mt\n",
    "mv = pd.read_csv('datasets/movies.csv')\n",
    "mv"
   ]
  },
  {
   "cell_type": "markdown",
   "metadata": {},
   "source": [
    "### US Gross"
   ]
  },
  {
   "cell_type": "code",
   "execution_count": 9,
   "metadata": {},
   "outputs": [
    {
     "name": "stdout",
     "output_type": "stream",
     "text": [
      "Média: 44002085.163744524\n",
      "Mediana: nan\n",
      "Variancia: 3911941821321967.0\n",
      "Desvio Padrão: 62545517.99547244\n"
     ]
    }
   ],
   "source": [
    "# ADICIONE O SEU CÓDIGO AQUI\n",
    "print('Média:',np.mean(mv['US Gross']))\n",
    "print('Mediana:',np.median(mv['US Gross']))\n",
    "print('Variancia:',np.var(mv['US Gross']))\n",
    "print('Desvio Padrão:',mt.sqrt(np.var(mv['US Gross'])))"
   ]
  },
  {
   "cell_type": "markdown",
   "metadata": {},
   "source": [
    "### Production Budget"
   ]
  },
  {
   "cell_type": "code",
   "execution_count": 4,
   "metadata": {},
   "outputs": [
    {
     "name": "stdout",
     "output_type": "stream",
     "text": [
      "Média: 31069171.4484375\n",
      "Mediana: nan\n",
      "Variancia: 1265961499053571.8\n",
      "Desvio Padrão: 35580352.71120245\n"
     ]
    }
   ],
   "source": [
    "# ADICIONE O SEU CÓDIGO AQUI\n",
    "print('Média:',np.mean(mv['Production Budget']))\n",
    "print('Mediana:',np.median(mv['Production Budget']))\n",
    "print('Variancia:',np.var(mv['Production Budget']))\n",
    "print('Desvio Padrão:',mt.sqrt(np.var(mv['Production Budget'])))"
   ]
  },
  {
   "cell_type": "markdown",
   "metadata": {},
   "source": [
    "### Running Time"
   ]
  },
  {
   "cell_type": "code",
   "execution_count": 5,
   "metadata": {},
   "outputs": [
    {
     "name": "stdout",
     "output_type": "stream",
     "text": [
      "Média: 110.19354838709677\n",
      "Mediana: nan\n",
      "Variancia: 406.53325862482995\n",
      "Desvio Padrão: 20.16266992798399\n"
     ]
    }
   ],
   "source": [
    "# ADICIONE O SEU CÓDIGO AQUI\n",
    "print('Média:',np.mean(mv['Running Time (min)']))\n",
    "print('Mediana:',np.median(mv['Running Time (min)']))\n",
    "print('Variancia:',np.var(mv['Running Time (min)']))\n",
    "print('Desvio Padrão:',mt.sqrt(np.var(mv['Running Time (min)'])))"
   ]
  },
  {
   "cell_type": "markdown",
   "metadata": {},
   "source": [
    "### IMDB Rating"
   ]
  },
  {
   "cell_type": "code",
   "execution_count": 7,
   "metadata": {},
   "outputs": [
    {
     "name": "stdout",
     "output_type": "stream",
     "text": [
      "Média: 6.283467202141901\n",
      "Mediana: nan\n",
      "Variancia: 1.5677052475856126\n",
      "Desvio Padrão: 1.2520803678620684\n"
     ]
    }
   ],
   "source": [
    "# ADICIONE O SEU CÓDIGO AQUI\n",
    "print('Média:',np.mean(mv['IMDB Rating']))\n",
    "print('Mediana:',np.median(mv['IMDB Rating']))\n",
    "print('Variancia:',np.var(mv['IMDB Rating']))\n",
    "print('Desvio Padrão:',mt.sqrt(np.var(mv['IMDB Rating'])))"
   ]
  },
  {
   "cell_type": "markdown",
   "metadata": {},
   "source": [
    "### IMDB Votes"
   ]
  },
  {
   "cell_type": "code",
   "execution_count": 9,
   "metadata": {},
   "outputs": [
    {
     "name": "stdout",
     "output_type": "stream",
     "text": [
      "Média: 29908.64457831325\n",
      "Mediana: nan\n",
      "Variancia: 2018710474.0222697\n",
      "Desvio Padrão: 44930.06203002918\n"
     ]
    }
   ],
   "source": [
    "# ADICIONE O SEU CÓDIGO AQUI\n",
    "print('Média:',np.mean(mv['IMDB Votes']))\n",
    "print('Mediana:',np.median(mv['IMDB Votes']))\n",
    "print('Variancia:',np.var(mv['IMDB Votes']))\n",
    "print('Desvio Padrão:',mt.sqrt(np.var(mv['IMDB Votes'])))"
   ]
  },
  {
   "cell_type": "markdown",
   "metadata": {},
   "source": [
    "### Análise dos Resultados\n",
    "\n",
    "Quais colunas tiveram valores muito diferentes entre média e mediana? Quais os seus desvios padrão?"
   ]
  },
  {
   "cell_type": "markdown",
   "metadata": {},
   "source": [
    "**RESPONDA AQUI**\n",
    "\n",
    "Não é possível mostras os valores diferentes entre as médias e medianas de todos os dados, pois pois a mediana de todos foi 'NaN', onde não amostra valores nele."
   ]
  },
  {
   "cell_type": "markdown",
   "metadata": {},
   "source": [
    "Que conclusões podemos tirar desses resultados?"
   ]
  },
  {
   "cell_type": "markdown",
   "metadata": {},
   "source": [
    "**RESPONDA AQUI**\n",
    "\n",
    "Que a média não proporcionar um resultado preciso. Pois existe uma distância muito grande entre eles. "
   ]
  }
 ],
 "metadata": {
  "kernelspec": {
   "display_name": "Python 3",
   "language": "python",
   "name": "python3"
  },
  "language_info": {
   "codemirror_mode": {
    "name": "ipython",
    "version": 3
   },
   "file_extension": ".py",
   "mimetype": "text/x-python",
   "name": "python",
   "nbconvert_exporter": "python",
   "pygments_lexer": "ipython3",
   "version": "3.8.6"
  }
 },
 "nbformat": 4,
 "nbformat_minor": 4
}
